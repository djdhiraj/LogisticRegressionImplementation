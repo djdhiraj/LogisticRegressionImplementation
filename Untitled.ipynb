{
 "cells": [
  {
   "cell_type": "code",
   "execution_count": 62,
   "metadata": {},
   "outputs": [],
   "source": [
    "import pandas as pd\n",
    "import numpy as np\n",
    "from sklearn import preprocessing\n",
    "from sklearn.utils import shuffle\n",
    "import matplotlib.pyplot as plt\n",
    "redWine=pd.read_csv('winequality-red.csv',sep=';')\n",
    "wine=pd.read_csv('winequality-white.csv',sep=';')\n",
    "\n",
    "redWine['type']=np.array([0 for i in range(len(df))])\n",
    "\n",
    "wine['type']=np.array([1 for i in range(len(df1))])\n",
    "\n",
    "wine=wine.append(redWine)\n"
   ]
  },
  {
   "cell_type": "code",
   "execution_count": 63,
   "metadata": {},
   "outputs": [],
   "source": [
    "wine = shuffle(wine)"
   ]
  },
  {
   "cell_type": "code",
   "execution_count": null,
   "metadata": {},
   "outputs": [],
   "source": [
    "\n"
   ]
  },
  {
   "cell_type": "code",
   "execution_count": 64,
   "metadata": {},
   "outputs": [
    {
     "data": {
      "text/plain": [
       "1    4898\n",
       "0    1599\n",
       "Name: type, dtype: int64"
      ]
     },
     "execution_count": 64,
     "metadata": {},
     "output_type": "execute_result"
    }
   ],
   "source": [
    "wine['type'].value_counts()"
   ]
  },
  {
   "cell_type": "code",
   "execution_count": 81,
   "metadata": {},
   "outputs": [],
   "source": [
    "length=len(wine.columns)\n",
    "ToBeScaled=wine.iloc[:,:length-1]\n",
    "X_Scaled=preprocessing.scale(ToBeScaled)"
   ]
  },
  {
   "cell_type": "code",
   "execution_count": 82,
   "metadata": {
    "scrolled": true
   },
   "outputs": [
    {
     "data": {
      "text/plain": [
       "array([[-0.16608919,  0.85245267, -1.366993  , ..., -1.21824646,\n",
       "        -1.2508602 , -0.93722961],\n",
       "       [-0.39751104, -0.6054167 ,  0.28468605, ..., -0.07573051,\n",
       "         0.34227095,  0.20799905],\n",
       "       [-0.86035472,  0.85245267, -1.57345288, ...,  0.05868313,\n",
       "         0.59381798,  0.20799905],\n",
       "       ..., \n",
       "       [-0.01180796, -0.84839493, -0.12823371, ..., -0.81500554,\n",
       "         1.26461004,  0.20799905],\n",
       "       [ 0.14247327,  2.06734381, -1.09171316, ...,  1.13399226,\n",
       "        -0.49621913,  0.20799905],\n",
       "       [ 0.29675449, -0.1802048 , -0.54115347, ..., -0.61338508,\n",
       "         1.09691202,  1.35322771]])"
      ]
     },
     "execution_count": 82,
     "metadata": {},
     "output_type": "execute_result"
    }
   ],
   "source": [
    "from sklearn.preprocessing import StandardScaler\n",
    "\n",
    "# Define the scaler \n",
    "scaler = StandardScaler().fit(ToBeScaled)\n",
    "\n",
    "ToBeScaled=scaler.transform(ToBeScaled)\n",
    "ToBeScaled"
   ]
  },
  {
   "cell_type": "code",
   "execution_count": 70,
   "metadata": {},
   "outputs": [],
   "source": [
    "\n",
    "featureX=preprocessing.scale(ToBeScaled)\n",
    "\n",
    "featureXX=np.array(ToBeScaled)\n",
    "y=np.array(wine['type'])"
   ]
  },
  {
   "cell_type": "code",
   "execution_count": 71,
   "metadata": {},
   "outputs": [],
   "source": [
    "\n",
    "\n",
    "pos=np.where(y==1)\n",
    "neg=np.where(y==0)"
   ]
  },
  {
   "cell_type": "code",
   "execution_count": 73,
   "metadata": {},
   "outputs": [
    {
     "data": {
      "image/png": "[encoded data removed]",
      "text/plain": [
       "<matplotlib.figure.Figure at 0x7fddfeb2ff98>"
      ]
     },
     "metadata": {},
     "output_type": "display_data"
    }
   ],
   "source": [
    "plt.scatter(featureX[pos,0],featureX[pos,1],c='g')\n",
    "\n",
    "\n",
    "plt.scatter(featureX[neg,0],featureX[neg,1],c='r')\n",
    "plt.show()\n"
   ]
  },
  {
   "cell_type": "code",
   "execution_count": null,
   "metadata": {
    "collapsed": true
   },
   "outputs": [],
   "source": []
  }
 ],
 "metadata": {
  "kernelspec": {
   "display_name": "Python 3",
   "language": "python",
   "name": "python3"
  },
  "language_info": {
   "codemirror_mode": {
    "name": "ipython",
    "version": 3
   },
   "file_extension": ".py",
   "mimetype": "text/x-python",
   "name": "python",
   "nbconvert_exporter": "python",
   "pygments_lexer": "ipython3",
   "version": "3.6.3"
  }
 },
 "nbformat": 4,
 "nbformat_minor": 2
}
